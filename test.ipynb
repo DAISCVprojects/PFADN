{
 "cells": [
  {
   "cell_type": "code",
   "execution_count": 1,
   "metadata": {},
   "outputs": [
    {
     "name": "stdout",
     "output_type": "stream",
     "text": [
      "Done!!\n"
     ]
    }
   ],
   "source": [
    "import os\n",
    "os.environ[\"CUDA_VISIBLE_DEVICES\"]=\"-1\"\n",
    "\n",
    "from PFADNdemosaicer import PFADNdemosaicer\n",
    "import cv2 as cv\n",
    "import numpy as np\n",
    "import h5py\n",
    "import tqdm\n",
    "\n",
    "import matplotlib.pyplot as plt\n",
    "\n",
    "OUT_DIR = \"results\"\n",
    "save_img = True\n",
    "\n",
    "if not os.path.isdir(OUT_DIR):\n",
    "    os.mkdir(OUT_DIR)\n",
    "\n",
    "if __name__ == \"__main__\":\n",
    "\n",
    "    #---------- select weights here ---------------#\n",
    "    \n",
    "    #demoPFADN = PFADNdemosaicer( \"models/PFADN_camera_model_14_11.h5\" )\n",
    "    #demoPFADN = PFADNdemosaicer( \"models/PFADN_synth_only.h5\" )\n",
    "    demoPFADN = PFADNdemosaicer( \"models/PFADN_mitsuba_weights.h5\" )\n",
    "\n",
    "    #---------- change input here------------------#\n",
    "    I= cv.imread('input_mosaic.png')\n",
    "    I= I[...,0]\n",
    "   \n",
    "\n",
    "    ##### PFADN prediction #####\n",
    "    output_S0, d, output_a = demoPFADN.demosaic( I, optimize=False )\n",
    "\n",
    "    if save_img:\n",
    "        #aux = render_tiled_polar(output_S0,d,output_a,None)\n",
    "        output_S0 = cv.cvtColor( np.clip(output_S0*140.0,0,255).astype(np.uint8), cv.COLOR_GRAY2RGB )\n",
    "        output_a = cv.applyColorMap( ( (output_a+np.pi*0.5)/np.pi*255.0).astype(np.uint8), cv.COLORMAP_HSV )\n",
    "\n",
    "        cv.imwrite(\"%s/output_S0_PFADN.png\"%(OUT_DIR), output_S0)\n",
    "        cv.imwrite(\"%s/output_aolp_PFADN.png\"%(OUT_DIR), output_a)\n",
    "        \n",
    "    print('Done!!')\n",
    "\n"
   ]
  },
  {
   "cell_type": "code",
   "execution_count": 6,
   "metadata": {},
   "outputs": [
    {
     "name": "stdout",
     "output_type": "stream",
     "text": [
      "updating: ../Github/ (stored 0%)\n",
      "updating: ../Github/PFADN_github/ (stored 0%)\n",
      "updating: ../Github/PFADN_github/__init__.py (stored 0%)\n",
      "updating: ../Github/PFADN_github/PFADN.py (deflated 75%)\n",
      "updating: ../Github/PFADN_github/__pycache__/ (stored 0%)\n",
      "updating: ../Github/PFADN_github/__pycache__/__init__.cpython-37.pyc (deflated 21%)\n",
      "updating: ../Github/PFADN_github/__pycache__/PFADN.cpython-37.pyc (deflated 57%)\n",
      "updating: ../Github/PFADN_github/.ipynb_checkpoints/ (stored 0%)\n",
      "updating: ../Github/PFADN_github/.ipynb_checkpoints/PFADN-checkpoint.py (deflated 75%)\n",
      "updating: ../Github/PFADN_github/.ipynb_checkpoints/__init__-checkpoint.py (stored 0%)\n",
      "updating: ../Github/utils.py (deflated 68%)\n",
      "updating: ../Github/PFADNdemosaicer.py (deflated 66%)\n",
      "updating: ../Github/test.ipynb (deflated 75%)\n",
      "updating: ../Github/input_mosaic.png (deflated 6%)\n",
      "updating: ../Github/models/ (stored 0%)\n",
      "updating: ../Github/models/PFADN_synth_only.h5 (deflated 61%)\n",
      "updating: ../Github/models/PFADN_camera_model_14_11.h5 (deflated 61%)\n",
      "updating: ../Github/models/PFADN_mitsuba_weights.h5 (deflated 61%)\n",
      "updating: ../Github/models/.ipynb_checkpoints/ (stored 0%)\n",
      "updating: ../Github/results/ (stored 0%)\n",
      "updating: ../Github/results/output_S0_PFADN.png (deflated 28%)\n",
      "updating: ../Github/results/output_aolp_PFADN.png (deflated 14%)\n",
      "updating: ../Github/results/.ipynb_checkpoints/ (stored 0%)\n",
      "updating: ../Github/results/.ipynb_checkpoints/output_aolp_PFADN-checkpoint.png (deflated 14%)\n",
      "updating: ../Github/results/.ipynb_checkpoints/output_S0_PFADN-checkpoint.png (deflated 28%)\n",
      "updating: ../Github/__pycache__/ (stored 0%)\n",
      "updating: ../Github/__pycache__/utils.cpython-37.pyc (deflated 54%)\n",
      "updating: ../Github/__pycache__/PFADNdemosaicer.cpython-37.pyc (deflated 44%)\n",
      "updating: ../Github/.ipynb_checkpoints/ (stored 0%)\n",
      "updating: ../Github/.ipynb_checkpoints/PFADNdemosaicer-checkpoint.py (deflated 65%)\n",
      "updating: ../Github/.ipynb_checkpoints/test-checkpoint.ipynb (deflated 62%)\n",
      "updating: ../Github/.ipynb_checkpoints/utils-checkpoint.py (deflated 71%)\n"
     ]
    }
   ],
   "source": [
    "!zip -r git.zip ../Github*\n"
   ]
  },
  {
   "cell_type": "code",
   "execution_count": null,
   "metadata": {},
   "outputs": [],
   "source": []
  }
 ],
 "metadata": {
  "kernelspec": {
   "display_name": "Python 3",
   "language": "python",
   "name": "python3"
  },
  "language_info": {
   "codemirror_mode": {
    "name": "ipython",
    "version": 3
   },
   "file_extension": ".py",
   "mimetype": "text/x-python",
   "name": "python",
   "nbconvert_exporter": "python",
   "pygments_lexer": "ipython3",
   "version": "3.7.9"
  }
 },
 "nbformat": 4,
 "nbformat_minor": 4
}
